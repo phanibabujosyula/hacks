{
 "cells": [
  {
   "cell_type": "markdown",
   "metadata": {},
   "source": [
    "## Prod AGOL Data Refresh - Hosted Flyrs.\n"
   ]
  },
  {
   "cell_type": "code",
   "execution_count": null,
   "metadata": {},
   "outputs": [],
   "source": [
    "# Import libraries and connect to AGOL\n",
    "import arcgis\n",
    "from arcgis.gis import GIS\n",
    "from arcgis.features import FeatureLayerCollection\n",
    "from arcgis.features import FeatureLayer\n",
    "gis = GIS(\"home\")\n",
    "import os\n",
    "import logging\n",
    "import time\n",
    "from datetime import datetime"
   ]
  },
  {
   "cell_type": "code",
   "execution_count": null,
   "metadata": {},
   "outputs": [],
   "source": [
    "#### PROD AGOL Hosted Flyrs ####\n",
    "agol_config = {'amdw_aviation_upd': '68952a17388c476d96cab27a31c9cd38',\n",
    "               'amdw_marine_upd': '69942b3093764932bfea4682f4137e93',\n",
    "               'amdw_motor_vehicles_active_upd':'ea2ffa75ff9c43e6a8fe5dbd91ca3510',\n",
    "               'rpdw_buildings_upd': '3a374f1845fc469ab72fe060ee5b90b3',\n",
    "               'rpdw_land_upd': '01d0cf7422db44759eabdd7a23cc57ee',\n",
    "               'rpdw_lease_equivalents_upd': 'c26e6a382a8a44a2bfc7bf79ad3cbdff',\n",
    "               'rpdw_structures_general_upd': '519813cc901744348d36ca85ca89e619',\n",
    "               'rpdw_structures_navig_aids_upd': '363afac2ee79464a936a3121c6958e58',\n",
    "               'rpdw_assets_current_upd': '3e4b71cb5f60413eb3f05296478dffef',\n",
    "               'gsa_cmbnd_main_brdg2_upd': '0f17bbc4981d4a1cbf6e49052e7bcf4d',\n",
    "               'gsa_sa_cmbnd_brdg2_upd': '0c9a1bef126c47f7b791aef4f8ae43e2',\n",
    "               'gsa_rwa_cmbnd_brdg2_upd': '1efa15f2bc484532a318a1dec58272e6',\n",
    "               'gsa_lpp_cmbnd_brdg2_upd': '027596efe4084b17870891cffeb77df2',\n",
    "               'gsa_lca_cmbnd_brdg2_upd': '317e7e63903a41299eeade9ac9c48005',\n",
    "               'gsa_cpp_cmbnd_brdg2_upd': '34971f466eac44a8b2b3e946ee7148d9',\n",
    "               'gsa_brd_cmbnd_brdg2_upd': '5e7ed6f1a4c94a07b5e26c6e9ea11a3f',\n",
    "               'all_personnel_by_dstation_upd': '546c6ae9ef2f4909bd45650d5ed48663',\n",
    "               'chco_fed_emp_by_dstation_upd': 'e36d9207005e4ffcaa6fbc41712d54a8',\n",
    "               'chco_fed_emp_by_reszip_upd': 'ae5233563c4d426cb07a03312dffe8fb',\n",
    "               'chco_federal_one_employee_upd': 'e5069788e4ad44e89b8605c81f13a582',\n",
    "               'chco_federal_two_employee_upd': '9a045bebc8fa4ab7baaefdb6878e3f2d',\n",
    "               'cso_military_by_dstation_upd': '9051fcec00734eb8aab32579f113320a',\n",
    "               'cso_military_personnel_upd': 'd732b03be02b4898ab6092049c4da416'\n",
    "              }\n"
   ]
  },
  {
   "cell_type": "code",
   "execution_count": null,
   "metadata": {},
   "outputs": [],
   "source": [
    "def get_agol_item_name(agol_item_type, agol_item_name):\n",
    "    try:\n",
    "        search_result = gis.content.search(item_type=agol_item_type, query='title:'+agol_item_name)\n",
    "        return search_result\n",
    "    except Exception as e:\n",
    "        logging.error('Failed to search the %s name for %s. Reason: %s' % (agol_item_type, agol_item_name, e))"
   ]
  },
  {
   "cell_type": "code",
   "execution_count": null,
   "metadata": {},
   "outputs": [],
   "source": [
    "def set_logger():\n",
    "    try:\n",
    "        logger = logging.getLogger()\n",
    "        log_file_name = r'/arcgis/home/agol_feature_layer_data_refresh_' + datetime.now().strftime('%Y%m%d_%H%M')+'.log'\n",
    "        logformat = '%(levelname)s|%(asctime)s|%(filename)s|%(funcName)s|%(message)s'\n",
    "        logging.basicConfig(filename= log_file_name, format = logformat, level=logging.INFO)\n",
    "    except Exception as e:\n",
    "        logging.error('Failed to set the logger. Reason: %s' % (e))\n",
    "        print('Error while setting the logger')"
   ]
  },
  {
   "cell_type": "code",
   "execution_count": null,
   "metadata": {},
   "outputs": [],
   "source": [
    "def derive_feature_layer_name(csv_name):\n",
    "    try:\n",
    "        return str.replace(str.replace(csv_name, '.csv', ''), '_upd', '')\n",
    "    except Exception as e:\n",
    "        logging.error('Failed to derive hosted feature layer name for %s. Reason: %s' % (csv_name, e))"
   ]
  },
  {
   "cell_type": "code",
   "execution_count": null,
   "metadata": {},
   "outputs": [],
   "source": [
    "def get_feature_layer_collection(feature_layer_collection):\n",
    "    try:\n",
    "        return FeatureLayerCollection.fromitem(feature_layer_collection)\n",
    "    except Exception as e:\n",
    "        logging.error('Failed to search the hosted feature layer id for %s. Reason: %s' % (feature_layer_collection, e))"
   ]
  },
  {
   "cell_type": "code",
   "execution_count": null,
   "metadata": {},
   "outputs": [],
   "source": [
    "def overwrite_feature_layer_collection(feature_layer_collection, csv_item_id):\n",
    "    try:\n",
    "        refresh_status = feature_layer_collection.manager.overwrite(csv_item_id)\n",
    "        return refresh_status.get('success')\n",
    "    except Exception as e:\n",
    "        logging.error('Error while refreshing the data in hosted feature layer for %s with %s. with return status: %s. Reason: %s' % (feature_layer_collection, csv_item_id, refresh_status.get('success'), e))"
   ]
  },
  {
   "cell_type": "code",
   "execution_count": null,
   "metadata": {},
   "outputs": [],
   "source": [
    "def get_item_name(item_id):\n",
    "    try:\n",
    "        return gis.content.get(item_id)\n",
    "    except Exception as e:\n",
    "        logging.error('Failed to search the hosted feature layer id for %s. Reason: %s' % (item_id, e))"
   ]
  },
  {
   "cell_type": "code",
   "execution_count": null,
   "metadata": {},
   "outputs": [],
   "source": [
    "def delete_csv_item(csv_item_id):\n",
    "    try:\n",
    "        item_for_deletion = gis.content.get(csv_item_id)\n",
    "    except Exception as e:\n",
    "        logging.error('Failed to derive csv item id csv item for %s. Reason: %s' % (csv_item_id, e))\n",
    "    try:\n",
    "        delete_status = item_for_deletion.delete()\n",
    "        return delete_status\n",
    "    except Exception as e:\n",
    "        logging.error('Failed to delete the csv item for %s. Reason: %s' % (csv_item_id, e))      "
   ]
  },
  {
   "cell_type": "code",
   "execution_count": null,
   "metadata": {},
   "outputs": [],
   "source": [
    "data_refresh_csv_files = get_agol_item_name('CSV', 'upd')\n",
    "number_of_data_files_to_process = len(data_refresh_csv_files)"
   ]
  },
  {
   "cell_type": "code",
   "execution_count": null,
   "metadata": {},
   "outputs": [],
   "source": [
    "if len(data_refresh_csv_files)==0:\n",
    "    #logging.info('No data files to process. sleeping...') \n",
    "    print('No data files to process. sleeping...')\n",
    "else:\n",
    "    set_logger()\n",
    "    logging.info('Number of data files to be processed: %s' % (number_of_data_files_to_process)) \n",
    "    print('Number of data files to be processed: %s' % (number_of_data_files_to_process)) \n",
    "    file_number = 1\n",
    "    for data_refresh_csv_file in data_refresh_csv_files:\n",
    "        print('------:: Processing the csv file item #:: ' + str(file_number) + ' of ' + str(len(data_refresh_csv_files)) + ' :: ' + data_refresh_csv_file.title + ' ::------') \n",
    "        file_number += 1\n",
    "        #getting item title from the contents for the CSV file\n",
    "\n",
    "        csv_data_file_name = data_refresh_csv_file.title\n",
    "        logging.info('csv_data_file_name: %s' % (csv_data_file_name))\n",
    "        print('    csv_data_file_name:', csv_data_file_name)\n",
    "\n",
    "        try:\n",
    "            feature_layer_id = agol_config[csv_data_file_name]\n",
    "            logging.info('feature_layer_id: %s' % (feature_layer_id))\n",
    "            print('    feature_layer_id:', feature_layer_id)\n",
    "        except Exception as e:\n",
    "            logging.error('Could not find the item id for %s - Please update the dictionary agol_config. Reason: %s' % (csv_data_file_name, e))\n",
    "            print('Could not find the item id for %s - Please update the dictionary agol_config. Reason: %s' % (csv_data_file_name, e))\n",
    "            \n",
    "        #get the name of the hosted feature layer to be updated\n",
    "        feature_layer_name =get_item_name(feature_layer_id)\n",
    "        logging.info('feature_layer_name: %s' % (feature_layer_name))\n",
    "        print('    feature_layer_name:', feature_layer_name)\n",
    "\n",
    "        #get the name of the hosted feature layer collection to be updated\n",
    "        feature_layer_collection = get_feature_layer_collection(feature_layer_name)\n",
    "        feature_layer_collection.layers\n",
    "        logging.info('feature_layer_collection: %s' % (feature_layer_collection))\n",
    "        print('    feature_layer_collection:', feature_layer_collection)\n",
    "        \n",
    "        ##### Testing Back up of the symbology ######################################\n",
    "        item_data = feature_layer_name.get_data()\n",
    "        #print('item_data', item_data)\n",
    "        if item_data is not None:\n",
    "            # Here note we are changing a specific part of the Layer Definition\n",
    "            #layer_def = item_data['layers'][0]['layerDefinition']\n",
    "            try:\n",
    "                print(\"    ******************* SYMBOLOGY OPERATIONS *********************\")\n",
    "                drawingInfo_out = str(feature_layer_name.layers[0].properties.drawingInfo)\n",
    "            except Exception as e:\n",
    "                logging.error('Could not find the drawingInfo_out info. Reason: %s' % (e))\n",
    "                print('Could not find the drawingInfo_out info. Reason: %s' % (e))\n",
    "            \n",
    "            #print(drawingInfo_out)\n",
    "        ####### End symbology backup ##########################################\n",
    "\n",
    "\n",
    "        #get the name of the csv file to be used for the update\n",
    "        csv_item_name = get_agol_item_name(agol_item_type=\"CSV\", agol_item_name=csv_data_file_name)\n",
    "        logging.info('csv_item_name: %s' % (csv_item_name))\n",
    "        print('    csv_item_name:', csv_item_name)\n",
    "\n",
    "        #get the item id of the csv file to be used for the update\n",
    "        csv_item_id = csv_item_name[0].id\n",
    "        csv_item_name_for_update = get_item_name(csv_item_id)\n",
    "        logging.info('csv_item_name_for_update: %s' % (csv_item_name_for_update))\n",
    "        print('    csv_item_name_for_update:', csv_item_name_for_update)\n",
    "\n",
    "        #copy the csv file to temp folder for the updates\n",
    "        tempcsvFilePath = csv_item_name_for_update.download('/arcgis/home/temp')\n",
    "        logging.info('tempcsvFilePath: %s' % (tempcsvFilePath))\n",
    "        print('    tempcsvFilePath:', tempcsvFilePath)\n",
    "        \n",
    "        # Feature layer title capture prior to overwrite\n",
    "        flyr_title = str(feature_layer_name.title)\n",
    "        print('    Feature Layer Title: ' + flyr_title)\n",
    "        \n",
    "        # Get thumbnail #######\n",
    "        flyr_thumbnail = feature_layer_name.download_thumbnail(save_folder=None)\n",
    "\n",
    "        # overwrite the original FS with our updated CSV\n",
    "        refresh_status = overwrite_feature_layer_collection(feature_layer_collection, tempcsvFilePath)\n",
    "        if refresh_status:\n",
    "            logging.info('data refresh for the hosted feature layer %s (Id: %s) is complete' % (str(feature_layer_name.title), str(feature_layer_id.title)))\n",
    "            print('    data refresh for the hosted feature layer: ' + str(feature_layer_name.title) + '(Id: ' + str(feature_layer_id.title) + ') is complete')\n",
    "            feature_layer_collection.content_status = 'authoritative'\n",
    "            update_capabilities = {'capabilities': 'Query, Extract'} \n",
    "            feature_layer_collection.manager.update_definition(update_capabilities)\n",
    "            logging.info('Setting capabilities for query and extract is complete')\n",
    "            print('    Setting capabilities for query and extract is complete')\n",
    "            ############### Adding drawing/symbology back to flyr ####################\n",
    "            feature_layer_collection.layers[0].manager.update_definition({\"drawingInfo\": drawingInfo_out})\n",
    "            logging.info('Adding Symbology back to feature layer is complete')\n",
    "            print('    Adding Symbology back to feature layer is complete')\n",
    "            ############### Add Title back to flyr ####################\n",
    "            feature_layer_name.update(item_properties = {'title': flyr_title})\n",
    "            logging.info('Adding Title back to feature layer is complete')\n",
    "            print('    Adding Title back to feature layer is complete')\n",
    "            ############### Add Thumbnail back to flyr ####################\n",
    "            feature_layer_name.update(thumbnail = flyr_thumbnail)\n",
    "            logging.info('Adding Thumbnail back to feature layer is complete')\n",
    "            print('    Adding Thumbnail back to feature layer is complete')\n",
    "            #csv_item_name_for_update.move('agol_archive_data_files')\n",
    "            delete_csv_file = delete_csv_item(csv_item_id)\n",
    "            logging.info('Moved the csv item %s to agol_archive_data_files' % (csv_item_id))\n",
    "logging.info('Process completed')\n",
    "print('Process completed')\n"
   ]
  },
  {
   "cell_type": "code",
   "execution_count": null,
   "metadata": {},
   "outputs": [],
   "source": []
  }
 ],
 "metadata": {
  "esriNotebookRuntime": {
   "notebookRuntimeName": "ArcGIS Notebook Python 3 Advanced",
   "notebookRuntimeVersion": "5.0"
  },
  "kernelspec": {
   "display_name": "Python 3",
   "language": "python",
   "name": "python3"
  },
  "language_info": {
   "codemirror_mode": {
    "name": "ipython",
    "version": 3
   },
   "file_extension": ".py",
   "mimetype": "text/x-python",
   "name": "python",
   "nbconvert_exporter": "python",
   "pygments_lexer": "ipython3",
   "version": "3.7.9"
  }
 },
 "nbformat": 4,
 "nbformat_minor": 2
}
